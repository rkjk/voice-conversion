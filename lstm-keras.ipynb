{
 "cells": [
  {
   "cell_type": "code",
   "execution_count": 3,
   "metadata": {},
   "outputs": [],
   "source": [
    "import numpy as np\n",
    "import tensorflow as tf\n",
    "import keras\n",
    "\n",
    "from keras.models import Sequential\n",
    "from keras.layers import Dense, Dropout\n",
    "from keras.layers import Embedding\n",
    "from keras.layers import LSTM\n",
    "from keras.models import load_model\n",
    "\n",
    "from sys import exit"
   ]
  },
  {
   "cell_type": "code",
   "execution_count": 4,
   "metadata": {},
   "outputs": [],
   "source": [
    "source_data = np.load('source_input_logfbank.npy')\n",
    "target_data = np.load('target_input_logfbank.npy')\n",
    "\n",
    "source_data = source_data[..., np.newaxis]\n",
    "target_data = target_data[..., np.newaxis]"
   ]
  },
  {
   "cell_type": "code",
   "execution_count": 5,
   "metadata": {},
   "outputs": [
    {
     "name": "stdout",
     "output_type": "stream",
     "text": [
      "Epoch 1/10\n",
      "39308/39308 [==============================] - 124s 3ms/step - loss: 49.1995\n",
      "Epoch 2/10\n",
      "39308/39308 [==============================] - 122s 3ms/step - loss: 48.5979\n",
      "Epoch 3/10\n",
      "39308/39308 [==============================] - 122s 3ms/step - loss: 48.5966\n",
      "Epoch 4/10\n",
      "39308/39308 [==============================] - 122s 3ms/step - loss: 48.5959\n",
      "Epoch 5/10\n",
      "39308/39308 [==============================] - 123s 3ms/step - loss: 48.5954\n",
      "Epoch 6/10\n",
      "39308/39308 [==============================] - 121s 3ms/step - loss: 48.5951\n",
      "Epoch 7/10\n",
      "39308/39308 [==============================] - 116s 3ms/step - loss: 48.5949\n",
      "Epoch 8/10\n",
      "39308/39308 [==============================] - 113s 3ms/step - loss: 48.5947\n",
      "Epoch 9/10\n",
      "39308/39308 [==============================] - 112s 3ms/step - loss: 48.5944\n",
      "Epoch 10/10\n",
      "39308/39308 [==============================] - 111s 3ms/step - loss: 48.5942\n"
     ]
    }
   ],
   "source": [
    "model = Sequential()\n",
    "#model.add(Embedding(source_data.shape, output_dim=1))\n",
    "model.add(LSTM(1, input_shape=(26,1), return_sequences=True ))\n",
    "\n",
    "model.compile(loss='mean_squared_error',optimizer='sgd')\n",
    "\n",
    "model.fit(source_data, target_data, batch_size=10, epochs=10)\n",
    "model.save('kerasmodels/lstm-textdependent.h5')"
   ]
  },
  {
   "cell_type": "code",
   "execution_count": null,
   "metadata": {},
   "outputs": [],
   "source": []
  }
 ],
 "metadata": {
  "kernelspec": {
   "display_name": "Python 3",
   "language": "python",
   "name": "python3"
  },
  "language_info": {
   "codemirror_mode": {
    "name": "ipython",
    "version": 3
   },
   "file_extension": ".py",
   "mimetype": "text/x-python",
   "name": "python",
   "nbconvert_exporter": "python",
   "pygments_lexer": "ipython3",
   "version": "3.5.2"
  }
 },
 "nbformat": 4,
 "nbformat_minor": 2
}
